{
 "cells": [
  {
   "cell_type": "markdown",
   "metadata": {},
   "source": [
    "# Cross-validation Checks\n",
    "\n",
    "Does cross-validation make a difference as compared to OOB error from the RF?"
   ]
  },
  {
   "cell_type": "code",
   "execution_count": 58,
   "metadata": {},
   "outputs": [],
   "source": [
    "import sys\n",
    "\n",
    "import numpy as np\n",
    "import astropy.units as u\n",
    "from sunpy.map import Map\n",
    "from sklearn.preprocessing import LabelEncoder\n",
    "from sklearn.model_selection import (train_test_split, \n",
    "                                     permutation_test_score,\n",
    "                                     cross_val_score,\n",
    "                                     ShuffleSplit,\n",
    "                                     KFold,\n",
    "                                     StratifiedKFold,)\n",
    "from sklearn.ensemble import RandomForestClassifier\n",
    "\n",
    "sys.path.append('../paper/python')\n",
    "from classify import prep_data, classify_ar"
   ]
  },
  {
   "cell_type": "code",
   "execution_count": 39,
   "metadata": {},
   "outputs": [],
   "source": [
    "rf_options = {\n",
    "    'n_estimators': 500,\n",
    "    'max_features': 'sqrt',\n",
    "    'criterion': 'gini',\n",
    "    'max_depth': 30,\n",
    "    'min_samples_leaf': 1,\n",
    "    'min_samples_split': 2,\n",
    "    'bootstrap': True,\n",
    "    'oob_score': True,\n",
    "    'max_leaf_nodes': None,\n",
    "    'min_impurity_decrease': 0,\n",
    "    'random_state': 42,  # this is to fix the seed of the \"randomness\" of the RF\n",
    "    'n_jobs': -1,\n",
    "}"
   ]
  },
  {
   "cell_type": "code",
   "execution_count": 26,
   "metadata": {},
   "outputs": [],
   "source": [
    "channels = [94, 131, 171, 193, 211, 335]\n",
    "heating = [\n",
    "    'high_frequency',\n",
    "    'intermediate_frequency',\n",
    "    'low_frequency'\n",
    "]\n",
    "channel_pairs = [\n",
    "    (94,335),\n",
    "    (94,211),\n",
    "    (94,193),\n",
    "    (94,171),\n",
    "    (94,131),\n",
    "    (335,211),\n",
    "    (335,193),\n",
    "    (335,171),\n",
    "    (335,131),\n",
    "    (211,193),\n",
    "    (211,171),\n",
    "    (211,131),\n",
    "    (193,171),\n",
    "    (193,131),\n",
    "    (171,131),\n",
    "]\n",
    "correlation_threshold = 0.1\n",
    "rsquared_threshold = 0.75"
   ]
  },
  {
   "cell_type": "markdown",
   "metadata": {},
   "source": [
    "Grab the formatted data"
   ]
  },
  {
   "cell_type": "code",
   "execution_count": 27,
   "metadata": {},
   "outputs": [
    {
     "name": "stderr",
     "output_type": "stream",
     "text": [
      "../paper/python/utils.py:46: RuntimeWarning: invalid value encountered in log10\n",
      "  em_valid = np.log10(emcube.as_array()[i_valid])\n"
     ]
    }
   ],
   "source": [
    "X, Y, X_observation, bad_pixels = prep_data(\n",
    "    '../paper/data/',\n",
    "    channel_pairs,\n",
    "    heating,\n",
    "    correlation_threshold=correlation_threshold,\n",
    "    rsquared_threshold=rsquared_threshold,\n",
    ")"
   ]
  },
  {
   "cell_type": "code",
   "execution_count": 10,
   "metadata": {},
   "outputs": [],
   "source": [
    "le = LabelEncoder()\n",
    "le.fit(Y)\n",
    "Y_encoded = le.transform(Y)"
   ]
  },
  {
   "cell_type": "code",
   "execution_count": 12,
   "metadata": {},
   "outputs": [
    {
     "data": {
      "text/plain": [
       "array([0, 0, 0, ..., 2, 2, 2])"
      ]
     },
     "execution_count": 12,
     "metadata": {},
     "output_type": "execute_result"
    }
   ],
   "source": [
    "Y_encoded"
   ]
  },
  {
   "cell_type": "markdown",
   "metadata": {},
   "source": [
    "Do the usual 2/3-1/3 train-test split and run the model"
   ]
  },
  {
   "cell_type": "code",
   "execution_count": 29,
   "metadata": {},
   "outputs": [],
   "source": [
    "X_train, X_test, Y_train, Y_test = train_test_split(X, Y_encoded, test_size=0.33)"
   ]
  },
  {
   "cell_type": "code",
   "execution_count": 62,
   "metadata": {},
   "outputs": [],
   "source": [
    "clf = RandomForestClassifier(**rf_options)"
   ]
  },
  {
   "cell_type": "code",
   "execution_count": 63,
   "metadata": {},
   "outputs": [
    {
     "data": {
      "text/plain": [
       "RandomForestClassifier(bootstrap=True, class_weight=None, criterion='gini',\n",
       "            max_depth=30, max_features='sqrt', max_leaf_nodes=None,\n",
       "            min_impurity_decrease=0, min_impurity_split=None,\n",
       "            min_samples_leaf=1, min_samples_split=2,\n",
       "            min_weight_fraction_leaf=0.0, n_estimators=500, n_jobs=-1,\n",
       "            oob_score=True, random_state=42, verbose=0, warm_start=False)"
      ]
     },
     "execution_count": 63,
     "metadata": {},
     "output_type": "execute_result"
    }
   ],
   "source": [
    "clf.fit(X_train, Y_train)"
   ]
  },
  {
   "cell_type": "code",
   "execution_count": 64,
   "metadata": {},
   "outputs": [],
   "source": [
    "test_error = 1. - clf.score(X_test, Y_test)"
   ]
  },
  {
   "cell_type": "code",
   "execution_count": 65,
   "metadata": {},
   "outputs": [
    {
     "name": "stdout",
     "output_type": "stream",
     "text": [
      "0.021860019175455436\n"
     ]
    }
   ],
   "source": [
    "print(test_error)"
   ]
  },
  {
   "cell_type": "markdown",
   "metadata": {},
   "source": [
    "Now, do $K$-fold cross-validation"
   ]
  },
  {
   "cell_type": "code",
   "execution_count": 66,
   "metadata": {},
   "outputs": [],
   "source": [
    "clf2 = RandomForestClassifier(**rf_options)"
   ]
  },
  {
   "cell_type": "code",
   "execution_count": 67,
   "metadata": {},
   "outputs": [],
   "source": [
    "cv_score = cross_val_score(clf2,\n",
    "                           X,\n",
    "                           y=Y_encoded,\n",
    "                           scoring=None,\n",
    "                           n_jobs=-1,\n",
    "                           cv=ShuffleSplit(5))"
   ]
  },
  {
   "cell_type": "code",
   "execution_count": 68,
   "metadata": {},
   "outputs": [
    {
     "data": {
      "text/plain": [
       "array([0.9802025 , 0.98128729, 0.98119689, 0.98137769, 0.98372808])"
      ]
     },
     "execution_count": 68,
     "metadata": {},
     "output_type": "execute_result"
    }
   ],
   "source": [
    "cv_score"
   ]
  },
  {
   "cell_type": "code",
   "execution_count": 70,
   "metadata": {},
   "outputs": [
    {
     "data": {
      "text/plain": [
       "array([0.0197975 , 0.01871271, 0.01880311, 0.01862231, 0.01627192])"
      ]
     },
     "execution_count": 70,
     "metadata": {},
     "output_type": "execute_result"
    }
   ],
   "source": [
    "1 - cv_score"
   ]
  },
  {
   "cell_type": "code",
   "execution_count": null,
   "metadata": {},
   "outputs": [],
   "source": [
    "def classify_ar_mod(classifier_params, X_model, Y_model, **kwargs):\n",
    "    \"\"\"\n",
    "    Train random forest classifier on simulation data, apply to real data\n",
    "\n",
    "    Parameters\n",
    "    ----------\n",
    "    classifier_params {[type]} -- [description]\n",
    "    X_model {[type]} -- [description]\n",
    "    Y_model {[type]} -- [description]\n",
    "    X_observation {[type]} -- [description]\n",
    "    bad_pixels {[type]} -- [description]\n",
    "    \"\"\"\n",
    "    # Encode labels\n",
    "    le = LabelEncoder()\n",
    "    le.fit(Y_model)\n",
    "    Y_model = le.transform(Y_model)\n",
    "    # Split training and test data\n",
    "    X_train, X_test, Y_train, Y_test = train_test_split(\n",
    "        X_model, Y_model, test_size=kwargs.get('test_size', 0.33))\n",
    "    # Fit classifier\n",
    "    clf = RandomForestClassifier(**classifier_params)\n",
    "    clf.fit(X_train, Y_train)\n",
    "    test_error = 1. - clf.score(X_test, Y_test)\n",
    "    print(test_error)\n",
    "    return clf\n",
    "    # Classify observations\n",
    "    #Y_observation = clf.predict(X_observation)\n",
    "    #Y_observation_prob = clf.predict_proba(X_observation)\n",
    "    ## Frequency map\n",
    "    #data = np.empty(bad_pixels.shape)\n",
    "    #data[bad_pixels] = np.nan\n",
    "    #data[~bad_pixels] = Y_observation\n",
    "    #class_map = data.copy()\n",
    "    ## Probability maps\n",
    "    #probability_maps = {}\n",
    "    #for i, c in enumerate(le.inverse_transform(clf.classes_)):\n",
    "    #    data = np.empty(bad_pixels.shape)\n",
    "    #    data[bad_pixels] = np.nan\n",
    "    #    data[~bad_pixels] = Y_observation_prob[:, i]\n",
    "    #    probability_maps[c] = data.copy()\n",
    "    #\n",
    "    #return class_map, probability_maps, clf, test_error"
   ]
  }
 ],
 "metadata": {
  "kernelspec": {
   "display_name": "Python [conda env:synthetic-observables]",
   "language": "python",
   "name": "conda-env-synthetic-observables-py"
  },
  "language_info": {
   "codemirror_mode": {
    "name": "ipython",
    "version": 3
   },
   "file_extension": ".py",
   "mimetype": "text/x-python",
   "name": "python",
   "nbconvert_exporter": "python",
   "pygments_lexer": "ipython3",
   "version": "3.7.1"
  }
 },
 "nbformat": 4,
 "nbformat_minor": 4
}
