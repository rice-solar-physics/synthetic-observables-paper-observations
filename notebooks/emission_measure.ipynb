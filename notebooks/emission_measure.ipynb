{
 "cells": [
  {
   "cell_type": "markdown",
   "metadata": {},
   "source": [
    "# Emission Measure"
   ]
  },
  {
   "cell_type": "code",
   "execution_count": 2,
   "metadata": {},
   "outputs": [],
   "source": [
    "import os\n",
    "import sys\n",
    "import glob\n",
    "import copy\n",
    "\n",
    "import numpy as np\n",
    "from scipy.interpolate import splev,interp1d\n",
    "import matplotlib\n",
    "import matplotlib.pyplot as plt\n",
    "from mpl_toolkits.axes_grid1 import make_axes_locatable\n",
    "import seaborn as sns\n",
    "from sunpy.map import Map,GenericMap\n",
    "import astropy.units as u\n",
    "from astropy.visualization import ImageNormalize,SqrtStretch,AsinhStretch\n",
    "from astropy.coordinates import SkyCoord\n",
    "import distributed\n",
    "\n",
    "import synthesizAR\n",
    "from synthesizAR.instruments import InstrumentSDOAIA\n",
    "from synthesizAR.analysis import DistributedAIACollection,DistributedAIACube\n",
    "from synthesizAR.analysis.dem import EMCube\n",
    "\n",
    "sys.path.append('../scripts/')\n",
    "from dem import HannahKontarModel, make_slope_map_tpeak\n",
    "\n",
    "import warnings\n",
    "warnings.filterwarnings('ignore',category=UserWarning,)\n",
    "\n",
    "%matplotlib inline"
   ]
  },
  {
   "cell_type": "code",
   "execution_count": 3,
   "metadata": {},
   "outputs": [
    {
     "data": {
      "text/html": [
       "<table style=\"border: 2px solid white;\">\n",
       "<tr>\n",
       "<td style=\"vertical-align: top; border: 0px solid white\">\n",
       "<h3>Client</h3>\n",
       "<ul>\n",
       "  <li><b>Scheduler: </b>tcp://127.0.0.1:46542\n",
       "  <li><b>Dashboard: </b><a href='http://127.0.0.1:8787/status' target='_blank'>http://127.0.0.1:8787/status</a>\n",
       "</ul>\n",
       "</td>\n",
       "<td style=\"vertical-align: top; border: 0px solid white\">\n",
       "<h3>Cluster</h3>\n",
       "<ul>\n",
       "  <li><b>Workers: </b>32</li>\n",
       "  <li><b>Cores: </b>64</li>\n",
       "  <li><b>Memory: </b>270.38 GB</li>\n",
       "</ul>\n",
       "</td>\n",
       "</tr>\n",
       "</table>"
      ],
      "text/plain": [
       "<Client: scheduler='tcp://127.0.0.1:46542' processes=32 cores=64>"
      ]
     },
     "execution_count": 3,
     "metadata": {},
     "output_type": "execute_result"
    }
   ],
   "source": [
    "cluster = distributed.LocalCluster(n_workers=32,threads_per_worker=2)\n",
    "client = distributed.Client(cluster)\n",
    "client"
   ]
  },
  {
   "cell_type": "markdown",
   "metadata": {},
   "source": [
    "First, read in the model and observational data. For now, we'll just take a time-average. It may be better to time-average in chunks though still not completely sure about that..."
   ]
  },
  {
   "cell_type": "code",
   "execution_count": 4,
   "metadata": {},
   "outputs": [],
   "source": [
    "read_template = '/storage-home/w/wtb2/data/timelag_synthesis_v2/observational_data/aia/cutouts/aia_lev1.5_201102*_{}_cutout.fits'"
   ]
  },
  {
   "cell_type": "code",
   "execution_count": 5,
   "metadata": {},
   "outputs": [],
   "source": [
    "aia = InstrumentSDOAIA([0,1]*u.s,None)"
   ]
  },
  {
   "cell_type": "code",
   "execution_count": 6,
   "metadata": {},
   "outputs": [],
   "source": [
    "cube = DistributedAIACollection(*[DistributedAIACube.from_files(read_template.format(c['name'])) for c in aia.channels])"
   ]
  },
  {
   "cell_type": "markdown",
   "metadata": {},
   "source": [
    "Next, set up the temperature bins."
   ]
  },
  {
   "cell_type": "code",
   "execution_count": 7,
   "metadata": {},
   "outputs": [],
   "source": [
    "temperature_bin_edges = 10.**np.arange(5.5,7.3,0.1) * u.K\n",
    "temperature_bin_centers = (temperature_bin_edges[1:] + temperature_bin_edges[:-1])/2."
   ]
  },
  {
   "cell_type": "markdown",
   "metadata": {},
   "source": [
    "And calculate the instrument responses."
   ]
  },
  {
   "cell_type": "code",
   "execution_count": 8,
   "metadata": {},
   "outputs": [],
   "source": [
    "responses = [splev(temperature_bin_centers.value, c['temperature_response_spline']) for c in aia.channels]"
   ]
  },
  {
   "cell_type": "markdown",
   "metadata": {},
   "source": [
    "Next, we'll time-average the emission in each channel"
   ]
  },
  {
   "cell_type": "code",
   "execution_count": 9,
   "metadata": {},
   "outputs": [],
   "source": [
    "maps = [cube[c['name']].average(\n",
    "            chunks=(cube[c['name']].shape[0], cube[c['name']].shape[1]//5, cube[c['name']].shape[2]//5)) \n",
    "        for c in aia.channels]"
   ]
  },
  {
   "cell_type": "markdown",
   "metadata": {},
   "source": [
    "and normalize each map to the exposure time"
   ]
  },
  {
   "cell_type": "code",
   "execution_count": 10,
   "metadata": {},
   "outputs": [],
   "source": [
    "maps = [Map(m.data/m.meta['exptime'], m.meta) for m in maps]"
   ]
  },
  {
   "cell_type": "markdown",
   "metadata": {},
   "source": [
    "And finally compute the EM distribution using the method of HK12 in IDL."
   ]
  },
  {
   "cell_type": "code",
   "execution_count": 11,
   "metadata": {},
   "outputs": [],
   "source": [
    "hk_model = HannahKontarModel(\n",
    "    maps,\n",
    "    temperature_bin_edges,\n",
    "    responses,\n",
    "    dem_path='/storage-home/w/wtb2/codes/demreg/idl/'\n",
    ")"
   ]
  },
  {
   "cell_type": "code",
   "execution_count": 12,
   "metadata": {},
   "outputs": [],
   "source": [
    "em = hk_model.fit(\n",
    "    alpha=1,\n",
    "    increase_alpha=1.1,\n",
    "    verbose=False,\n",
    "    n_sample=len(cube[0].maps)\n",
    ")"
   ]
  },
  {
   "cell_type": "markdown",
   "metadata": {},
   "source": [
    "Now, compute the emission measure slope in each pixel by fitting over the interval $[10^6,T_{peak}]$, where $T_{peak}$ is the temperature at the peak of the emission measure distribution."
   ]
  },
  {
   "cell_type": "code",
   "execution_count": 25,
   "metadata": {},
   "outputs": [
    {
     "name": "stderr",
     "output_type": "stream",
     "text": [
      "/storage-home/w/wtb2/anaconda3/envs/synthetic-observables/lib/python3.6/site-packages/synthesizAR-0.1.dev856-py3.6.egg/synthesizAR/analysis/dem.py:125: RuntimeWarning: divide by zero encountered in log10\n",
      "  em_fit = np.log10(data.value.reshape((np.prod(data.shape[:2]),) + data.shape[2:]).T)\n",
      "/storage-home/w/wtb2/anaconda3/envs/synthetic-observables/lib/python3.6/site-packages/synthesizAR-0.1.dev856-py3.6.egg/synthesizAR/analysis/dem.py:133: RuntimeWarning: divide by zero encountered in true_divide\n",
      "  rsquared = 1. - rss/rss_flat\n",
      "/storage-home/w/wtb2/anaconda3/envs/synthetic-observables/lib/python3.6/site-packages/synthesizAR-0.1.dev856-py3.6.egg/synthesizAR/analysis/dem.py:133: RuntimeWarning: invalid value encountered in true_divide\n",
      "  rsquared = 1. - rss/rss_flat\n",
      "/storage-home/w/wtb2/anaconda3/envs/synthetic-observables/lib/python3.6/site-packages/synthesizAR-0.1.dev856-py3.6.egg/synthesizAR/analysis/dem.py:134: RuntimeWarning: invalid value encountered in less\n",
      "  rsquared_mask = rsquared.reshape(data.shape[:2]) < rsquared_tolerance\n"
     ]
    }
   ],
   "source": [
    "slope_map = make_slope_map_tpeak(\n",
    "    em,\n",
    "    Tmin=1e6*u.K,\n",
    "    safety=10**(0.3),\n",
    "    rsquared_tolerance=0.9,\n",
    ")\n",
    "Map(np.where(slope_map.mask, np.nan, slope_map.data), slope_map.meta).save('../paper/data/observations/em_slope.fits', overwrite=True)"
   ]
  },
  {
   "cell_type": "code",
   "execution_count": null,
   "metadata": {},
   "outputs": [],
   "source": []
  }
 ],
 "metadata": {
  "kernelspec": {
   "display_name": "Python [conda env:synthetic-observables]",
   "language": "python",
   "name": "conda-env-synthetic-observables-py"
  },
  "language_info": {
   "codemirror_mode": {
    "name": "ipython",
    "version": 3
   },
   "file_extension": ".py",
   "mimetype": "text/x-python",
   "name": "python",
   "nbconvert_exporter": "python",
   "pygments_lexer": "ipython3",
   "version": "3.6.7"
  }
 },
 "nbformat": 4,
 "nbformat_minor": 2
}
