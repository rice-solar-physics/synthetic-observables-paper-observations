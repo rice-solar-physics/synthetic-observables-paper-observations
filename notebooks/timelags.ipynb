{
 "cells": [
  {
   "cell_type": "markdown",
   "metadata": {},
   "source": [
    "# Timelag Maps: Observed\n",
    "Compute timelags from observed AIA data and save timelags and peak cross-correlations to FITS files for each channel pair."
   ]
  },
  {
   "cell_type": "code",
   "execution_count": null,
   "metadata": {},
   "outputs": [],
   "source": [
    "import os\n",
    "import sys\n",
    "\n",
    "import numpy as np\n",
    "import distributed\n",
    "import matplotlib.pyplot as plt\n",
    "import matplotlib.colors\n",
    "import seaborn\n",
    "from sunpy.map import Map,GenericMap\n",
    "from astropy.coordinates import SkyCoord\n",
    "import astropy.units as u\n",
    "from astropy.utils.console import ProgressBar\n",
    "\n",
    "import synthesizAR\n",
    "from synthesizAR.instruments import InstrumentSDOAIA\n",
    "from synthesizAR.analysis import DistributedAIACube,AIATimelags\n",
    "\n",
    "%matplotlib inline"
   ]
  },
  {
   "cell_type": "code",
   "execution_count": null,
   "metadata": {},
   "outputs": [],
   "source": [
    "cluster = distributed.LocalCluster(n_workers=16,threads_per_worker=4,)\n",
    "client = distributed.Client(cluster)\n",
    "client"
   ]
  },
  {
   "cell_type": "code",
   "execution_count": null,
   "metadata": {},
   "outputs": [],
   "source": [
    "channels = [94,131,171,193,211,335]"
   ]
  },
  {
   "cell_type": "code",
   "execution_count": null,
   "metadata": {},
   "outputs": [],
   "source": [
    "channel_pairs = [(94,335),\n",
    "                 (94,171),\n",
    "                 (94,193),\n",
    "                 (94,131),\n",
    "                 (94,211),\n",
    "                 (335,131),\n",
    "                 (335,193),\n",
    "                 (335,211), \n",
    "                 (335,171),\n",
    "                 (211,131),\n",
    "                 (211,171),\n",
    "                 (211,193),\n",
    "                 (193,171),\n",
    "                 (193,131),\n",
    "                 (171,131),]"
   ]
  },
  {
   "cell_type": "code",
   "execution_count": null,
   "metadata": {},
   "outputs": [],
   "source": [
    "tl = AIATimelags(*[DistributedAIACube.from_files(\n",
    "    f'/storage-home/w/wtb2/data/timelag_synthesis_v2/observational_data/aia/cutouts/aia_lev1.5_*_{c}_cutout.fits')\n",
    "                   for c in channels])"
   ]
  },
  {
   "cell_type": "code",
   "execution_count": null,
   "metadata": {},
   "outputs": [],
   "source": [
    "timelag_bounds = (-6*u.hour,6*u.hour)"
   ]
  },
  {
   "cell_type": "code",
   "execution_count": null,
   "metadata": {},
   "outputs": [],
   "source": [
    "save_format = '../paper/data/observations/{}_{}_{}.fits'"
   ]
  },
  {
   "cell_type": "code",
   "execution_count": null,
   "metadata": {},
   "outputs": [],
   "source": [
    "chunks = (tl[0].shape[1]//5, tl[1].shape[2]//5)"
   ]
  },
  {
   "cell_type": "code",
   "execution_count": null,
   "metadata": {},
   "outputs": [],
   "source": [
    "for ca,cb in channel_pairs:\n",
    "    timelag_map = tl.timelag_map(f'{ca}', f'{cb}', timelag_bounds=timelag_bounds, chunks=chunks)\n",
    "    timelag_map.save(save_format.format('timelag', ca, cb))\n",
    "    correlation_map = tl.peak_cross_correlation_map(f'{ca}', f'{cb}', timelag_bounds=timelag_bounds, chunks=chunks)\n",
    "    correlation_map.save(save_format.format('correlation', ca, cb))"
   ]
  },
  {
   "cell_type": "code",
   "execution_count": null,
   "metadata": {},
   "outputs": [],
   "source": []
  }
 ],
 "metadata": {
  "kernelspec": {
   "display_name": "Python [conda env:synthetic-observables]",
   "language": "python",
   "name": "conda-env-synthetic-observables-py"
  },
  "language_info": {
   "codemirror_mode": {
    "name": "ipython",
    "version": 3
   },
   "file_extension": ".py",
   "mimetype": "text/x-python",
   "name": "python",
   "nbconvert_exporter": "python",
   "pygments_lexer": "ipython3",
   "version": "3.7.1"
  }
 },
 "nbformat": 4,
 "nbformat_minor": 4
}
